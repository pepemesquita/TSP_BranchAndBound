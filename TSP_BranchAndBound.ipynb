{
  "nbformat": 4,
  "nbformat_minor": 0,
  "metadata": {
    "colab": {
      "provenance": [],
      "mount_file_id": "1g9zhUq6do8iqC7hj8BtSURqs2pNhlbY_",
      "authorship_tag": "ABX9TyP/kxLJ7O/yu9s6xu1vXVFe",
      "include_colab_link": true
    },
    "kernelspec": {
      "name": "python3",
      "display_name": "Python 3"
    },
    "language_info": {
      "name": "python"
    }
  },
  "cells": [
    {
      "cell_type": "markdown",
      "metadata": {
        "id": "view-in-github",
        "colab_type": "text"
      },
      "source": [
        "<a href=\"https://colab.research.google.com/github/pepemesquita/TSP_BranchAndBound/blob/main/TSP_BranchAndBound.ipynb\" target=\"_parent\"><img src=\"https://colab.research.google.com/assets/colab-badge.svg\" alt=\"Open In Colab\"/></a>"
      ]
    },
    {
      "cell_type": "markdown",
      "source": [
        "#Branch and Bound Algorithm"
      ],
      "metadata": {
        "id": "dGQgB7ZUHWE3"
      }
    },
    {
      "cell_type": "markdown",
      "source": [
        "##Presets"
      ],
      "metadata": {
        "id": "YQOCebLeeGwy"
      }
    },
    {
      "cell_type": "code",
      "execution_count": null,
      "metadata": {
        "id": "FP8ZcP78HQKR"
      },
      "outputs": [],
      "source": [
        "import math\n",
        "import time\n",
        "maxsize = float('inf')\n",
        "\n",
        "# Function to copy temporary solution to the final solution\n",
        "def copyToFinal(curr_path):\n",
        "    global final_path\n",
        "    final_path[:V + 1] = curr_path[:]\n",
        "    final_path[V] = curr_path[0]"
      ]
    },
    {
      "cell_type": "markdown",
      "source": [
        "##Finding Minimum Edge"
      ],
      "metadata": {
        "id": "kO48DyzjgmIJ"
      }
    },
    {
      "cell_type": "code",
      "source": [
        "\n",
        "# Function to find the minimum edge cost having an end at the vertex i\n",
        "def firstMin(adj, i):\n",
        "    min = maxsize\n",
        "    for k in range(V):\n",
        "        if adj[i][k] < min and i != k:\n",
        "            min = adj[i][k]\n",
        "    return min\n",
        "\n",
        "# Function to find the second minimum edge cost having an end at the vertex i\n",
        "def secondMin(adj, i):\n",
        "    first, second = maxsize, maxsize\n",
        "    for j in range(V):\n",
        "        if i == j:\n",
        "            continue\n",
        "        if adj[i][j] <= first:\n",
        "            second = first\n",
        "            first = adj[i][j]\n",
        "        elif(adj[i][j] <= second and adj[i][j] != first):\n",
        "            second = adj[i][j]\n",
        "    return second"
      ],
      "metadata": {
        "id": "V0FxH9zygkcI"
      },
      "execution_count": null,
      "outputs": []
    },
    {
      "cell_type": "markdown",
      "source": [
        "##Recursive TSP"
      ],
      "metadata": {
        "id": "6U8b20yFn518"
      }
    },
    {
      "cell_type": "code",
      "source": [
        "def TSPRec(adj, curr_bound, curr_weight, level, curr_path, visited):\n",
        "    global final_res, iteration_count\n",
        "    # Increment iteration count\n",
        "    iteration_count += 1\n",
        "\n",
        "    if level == V:\n",
        "        # Check if there is an edge from last vertex in path back to the first vertex\n",
        "        if adj[curr_path[level - 1]][curr_path[0]] != 0:\n",
        "            curr_res = curr_weight + adj[curr_path[level - 1]][curr_path[0]]\n",
        "            if curr_res < final_res:\n",
        "                copyToFinal(curr_path)\n",
        "                final_res = curr_res\n",
        "        return\n",
        "    # For any other level iterate for all vertices to build the search space tree recursively\n",
        "    for i in range(V):\n",
        "\n",
        "        if (adj[curr_path[level-1]][i] != 0 and visited[i] == False):\n",
        "            temp = curr_bound\n",
        "            curr_weight += adj[curr_path[level - 1]][i]\n",
        "\n",
        "            if level == 1:\n",
        "                curr_bound -= ((firstMin(adj, curr_path[level - 1]) + firstMin(adj, i)) / 2)\n",
        "            else:\n",
        "                curr_bound -= ((secondMin(adj, curr_path[level - 1]) + firstMin(adj, i)) / 2)\n",
        "\n",
        "            if curr_bound + curr_weight < final_res:\n",
        "                curr_path[level] = i\n",
        "                visited[i] = True\n",
        "                TSPRec(adj, curr_bound, curr_weight, level + 1, curr_path, visited)\n",
        "\n",
        "            curr_weight -= adj[curr_path[level - 1]][i]\n",
        "            curr_bound = temp\n",
        "\n",
        "            # Also reset the visited array\n",
        "            visited = [False] * len(visited)\n",
        "            for j in range(level):\n",
        "                if curr_path[j] != -1:\n",
        "                    visited[curr_path[j]] = True"
      ],
      "metadata": {
        "id": "JDCWYDeaHUSy"
      },
      "execution_count": null,
      "outputs": []
    },
    {
      "cell_type": "markdown",
      "source": [
        "#Solving the TSP"
      ],
      "metadata": {
        "id": "x9Eq49qhn9VK"
      }
    },
    {
      "cell_type": "code",
      "source": [
        "# Function to setup the final_path\n",
        "def TSP(adj):\n",
        "    global final_res, final_path, V, iteration_count\n",
        "\n",
        "    curr_bound = 0\n",
        "    curr_path = [-1] * (V + 1)\n",
        "    visited = [False] * V\n",
        "\n",
        "    for i in range(V):\n",
        "        curr_bound += (firstMin(adj, i) + secondMin(adj, i))\n",
        "\n",
        "    curr_bound = math.ceil(curr_bound / 2)\n",
        "    visited[0] = True\n",
        "    curr_path[0] = 0\n",
        "\n",
        "    TSPRec(adj, curr_bound, 0, 1, curr_path, visited)"
      ],
      "metadata": {
        "id": "g_jS6pmVn8m_"
      },
      "execution_count": null,
      "outputs": []
    },
    {
      "cell_type": "markdown",
      "source": [
        "##TSP Files .txt"
      ],
      "metadata": {
        "id": "_C7ymEOvov4w"
      }
    },
    {
      "cell_type": "code",
      "source": [
        "# Function to read the adjacency matrix from a file\n",
        "def file_tsp(file_path):\n",
        "    with open(file_path, 'r') as f:\n",
        "        lines = f.readlines()\n",
        "\n",
        "    adj = []\n",
        "    for line in lines:\n",
        "        adj.append(list(map(int, line.strip().split())))\n",
        "\n",
        "    return adj"
      ],
      "metadata": {
        "id": "aHAcKkvPo4SU"
      },
      "execution_count": null,
      "outputs": []
    },
    {
      "cell_type": "markdown",
      "source": [
        "##Main"
      ],
      "metadata": {
        "id": "RmXSCDeUnvd3"
      }
    },
    {
      "cell_type": "code",
      "source": [
        "\n",
        "\n",
        "#**** choose the file :) *****\n",
        "#file_path = \"/content/drive/MyDrive/AEDIII/tsp1_253.txt\"\n",
        "#file_path = \"/content/drive/MyDrive/AEDIII/tsp2_1248.txt\"\n",
        "file_path = \"/content/drive/MyDrive/AEDIII/tsp3_1194.txt\"\n",
        "#file_path = \"/content/drive/MyDrive/AEDIII/tsp4_7013.txt\"\n",
        "#file_path = \"/content/drive/MyDrive/AEDIII/tsp5_27603.txt\"\n",
        "\n",
        "adj = file_tsp(file_path)\n",
        "V = len(adj)\n",
        "\n",
        "final_path = [None] * (V + 1)\n",
        "\n",
        "visited = [False] * V\n",
        "\n",
        "final_res = maxsize\n",
        "\n",
        "iteration_count = 0\n",
        "\n",
        "start_time = time.time()\n",
        "\n",
        "TSP(adj)\n",
        "\n",
        "end_time = time.time()\n",
        "\n",
        "time_taken = end_time - start_time\n",
        "\n",
        "print(\"Minimum cost:\", final_res)\n",
        "print(\"Path Taken:\", end=' ')\n",
        "for i in range(V + 1):\n",
        "    print(final_path[i], end=' ')\n",
        "\n",
        "print(\"\\nTotal iterations:\", iteration_count)\n",
        "print(\"Time taken: {:.6f} seconds\".format(time_taken))\n"
      ],
      "metadata": {
        "colab": {
          "base_uri": "https://localhost:8080/"
        },
        "collapsed": true,
        "id": "XfF-iG2jnxHY",
        "outputId": "addce121-e3a3-4f5f-a962-662a7bdbbd82"
      },
      "execution_count": null,
      "outputs": [
        {
          "output_type": "stream",
          "name": "stdout",
          "text": [
            "Minimum cost: 1194\n",
            "Path Taken: 0 1 14 13 12 11 10 9 8 7 6 5 4 3 2 0 \n",
            "Total iterations: 179615\n",
            "Time taken: 6.910970 seconds\n"
          ]
        }
      ]
    }
  ]
}